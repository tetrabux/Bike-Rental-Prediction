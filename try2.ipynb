{
 "cells": [
  {
   "cell_type": "code",
   "execution_count": 1,
   "metadata": {},
   "outputs": [],
   "source": [
    "#importing important libraries\n",
    "\n",
    "import numpy as np\n",
    "import pandas as pd\n",
    "import matplotlib.pyplot as plt\n",
    "import seaborn as sn\n",
    "from datetime import datetime\n",
    "from datetime import date\n",
    "#other libs"
   ]
  },
  {
   "cell_type": "code",
   "execution_count": 2,
   "metadata": {},
   "outputs": [],
   "source": [
    "#loading files\n",
    "train = pd.read_csv(r\"C:\\Users\\Gautam's\\Downloads\\Assignment 4 (3)\\train.csv\")\n",
    "test = pd.read_csv (r\"C:\\Users\\Gautam's\\Downloads\\Assignment 4 (3)\\test.csv\")"
   ]
  },
  {
   "cell_type": "code",
   "execution_count": 3,
   "metadata": {},
   "outputs": [
    {
     "data": {
      "text/plain": [
       "((12980, 12), (4399, 11))"
      ]
     },
     "execution_count": 3,
     "metadata": {},
     "output_type": "execute_result"
    }
   ],
   "source": [
    "#getting dimensions\n",
    "train.shape, test.shape"
   ]
  },
  {
   "cell_type": "code",
   "execution_count": 4,
   "metadata": {},
   "outputs": [
    {
     "data": {
      "text/html": [
       "<div>\n",
       "<style scoped>\n",
       "    .dataframe tbody tr th:only-of-type {\n",
       "        vertical-align: middle;\n",
       "    }\n",
       "\n",
       "    .dataframe tbody tr th {\n",
       "        vertical-align: top;\n",
       "    }\n",
       "\n",
       "    .dataframe thead th {\n",
       "        text-align: right;\n",
       "    }\n",
       "</style>\n",
       "<table border=\"1\" class=\"dataframe\">\n",
       "  <thead>\n",
       "    <tr style=\"text-align: right;\">\n",
       "      <th></th>\n",
       "      <th>datetime</th>\n",
       "      <th>season</th>\n",
       "      <th>holiday</th>\n",
       "      <th>workingday</th>\n",
       "      <th>weather</th>\n",
       "      <th>temp</th>\n",
       "      <th>atemp</th>\n",
       "      <th>humidity</th>\n",
       "      <th>windspeed</th>\n",
       "      <th>casual</th>\n",
       "      <th>registered</th>\n",
       "      <th>count</th>\n",
       "    </tr>\n",
       "  </thead>\n",
       "  <tbody>\n",
       "    <tr>\n",
       "      <th>0</th>\n",
       "      <td>2011-01-01 0:00:00</td>\n",
       "      <td>1</td>\n",
       "      <td>0</td>\n",
       "      <td>0</td>\n",
       "      <td>1</td>\n",
       "      <td>9.84</td>\n",
       "      <td>14.395</td>\n",
       "      <td>81.0</td>\n",
       "      <td>0.0</td>\n",
       "      <td>3</td>\n",
       "      <td>13</td>\n",
       "      <td>16</td>\n",
       "    </tr>\n",
       "    <tr>\n",
       "      <th>1</th>\n",
       "      <td>2011-01-01 1:00:00</td>\n",
       "      <td>1</td>\n",
       "      <td>0</td>\n",
       "      <td>0</td>\n",
       "      <td>1</td>\n",
       "      <td>9.02</td>\n",
       "      <td>13.635</td>\n",
       "      <td>80.0</td>\n",
       "      <td>0.0</td>\n",
       "      <td>8</td>\n",
       "      <td>32</td>\n",
       "      <td>40</td>\n",
       "    </tr>\n",
       "    <tr>\n",
       "      <th>2</th>\n",
       "      <td>2011-01-01 2:00:00</td>\n",
       "      <td>1</td>\n",
       "      <td>0</td>\n",
       "      <td>0</td>\n",
       "      <td>1</td>\n",
       "      <td>9.02</td>\n",
       "      <td>13.635</td>\n",
       "      <td>80.0</td>\n",
       "      <td>0.0</td>\n",
       "      <td>5</td>\n",
       "      <td>27</td>\n",
       "      <td>32</td>\n",
       "    </tr>\n",
       "    <tr>\n",
       "      <th>3</th>\n",
       "      <td>2011-01-01 3:00:00</td>\n",
       "      <td>1</td>\n",
       "      <td>0</td>\n",
       "      <td>0</td>\n",
       "      <td>1</td>\n",
       "      <td>9.84</td>\n",
       "      <td>14.395</td>\n",
       "      <td>75.0</td>\n",
       "      <td>0.0</td>\n",
       "      <td>3</td>\n",
       "      <td>10</td>\n",
       "      <td>13</td>\n",
       "    </tr>\n",
       "    <tr>\n",
       "      <th>4</th>\n",
       "      <td>2011-01-01 4:00:00</td>\n",
       "      <td>1</td>\n",
       "      <td>0</td>\n",
       "      <td>0</td>\n",
       "      <td>1</td>\n",
       "      <td>9.84</td>\n",
       "      <td>14.395</td>\n",
       "      <td>75.0</td>\n",
       "      <td>0.0</td>\n",
       "      <td>0</td>\n",
       "      <td>1</td>\n",
       "      <td>1</td>\n",
       "    </tr>\n",
       "  </tbody>\n",
       "</table>\n",
       "</div>"
      ],
      "text/plain": [
       "             datetime  season  holiday  workingday  weather  temp   atemp  \\\n",
       "0  2011-01-01 0:00:00       1        0           0        1  9.84  14.395   \n",
       "1  2011-01-01 1:00:00       1        0           0        1  9.02  13.635   \n",
       "2  2011-01-01 2:00:00       1        0           0        1  9.02  13.635   \n",
       "3  2011-01-01 3:00:00       1        0           0        1  9.84  14.395   \n",
       "4  2011-01-01 4:00:00       1        0           0        1  9.84  14.395   \n",
       "\n",
       "   humidity  windspeed  casual  registered  count  \n",
       "0      81.0        0.0       3          13     16  \n",
       "1      80.0        0.0       8          32     40  \n",
       "2      80.0        0.0       5          27     32  \n",
       "3      75.0        0.0       3          10     13  \n",
       "4      75.0        0.0       0           1      1  "
      ]
     },
     "execution_count": 4,
     "metadata": {},
     "output_type": "execute_result"
    }
   ],
   "source": [
    "#train's top 5 rows\n",
    "train.head()"
   ]
  },
  {
   "cell_type": "code",
   "execution_count": 5,
   "metadata": {},
   "outputs": [
    {
     "data": {
      "text/html": [
       "<div>\n",
       "<style scoped>\n",
       "    .dataframe tbody tr th:only-of-type {\n",
       "        vertical-align: middle;\n",
       "    }\n",
       "\n",
       "    .dataframe tbody tr th {\n",
       "        vertical-align: top;\n",
       "    }\n",
       "\n",
       "    .dataframe thead th {\n",
       "        text-align: right;\n",
       "    }\n",
       "</style>\n",
       "<table border=\"1\" class=\"dataframe\">\n",
       "  <thead>\n",
       "    <tr style=\"text-align: right;\">\n",
       "      <th></th>\n",
       "      <th>datetime</th>\n",
       "      <th>season</th>\n",
       "      <th>holiday</th>\n",
       "      <th>workingday</th>\n",
       "      <th>weather</th>\n",
       "      <th>temp</th>\n",
       "      <th>atemp</th>\n",
       "      <th>humidity</th>\n",
       "      <th>windspeed</th>\n",
       "      <th>casual</th>\n",
       "      <th>registered</th>\n",
       "    </tr>\n",
       "  </thead>\n",
       "  <tbody>\n",
       "    <tr>\n",
       "      <th>0</th>\n",
       "      <td>2012-06-30 1:00:00</td>\n",
       "      <td>3</td>\n",
       "      <td>0</td>\n",
       "      <td>0</td>\n",
       "      <td>3</td>\n",
       "      <td>26.24</td>\n",
       "      <td>28.790</td>\n",
       "      <td>89.0</td>\n",
       "      <td>15.0013</td>\n",
       "      <td>3</td>\n",
       "      <td>55</td>\n",
       "    </tr>\n",
       "    <tr>\n",
       "      <th>1</th>\n",
       "      <td>2012-06-30 2:00:00</td>\n",
       "      <td>3</td>\n",
       "      <td>0</td>\n",
       "      <td>0</td>\n",
       "      <td>2</td>\n",
       "      <td>26.24</td>\n",
       "      <td>28.790</td>\n",
       "      <td>89.0</td>\n",
       "      <td>0.0000</td>\n",
       "      <td>7</td>\n",
       "      <td>54</td>\n",
       "    </tr>\n",
       "    <tr>\n",
       "      <th>2</th>\n",
       "      <td>2012-06-30 3:00:00</td>\n",
       "      <td>3</td>\n",
       "      <td>0</td>\n",
       "      <td>0</td>\n",
       "      <td>2</td>\n",
       "      <td>26.24</td>\n",
       "      <td>28.790</td>\n",
       "      <td>89.0</td>\n",
       "      <td>0.0000</td>\n",
       "      <td>3</td>\n",
       "      <td>20</td>\n",
       "    </tr>\n",
       "    <tr>\n",
       "      <th>3</th>\n",
       "      <td>2012-06-30 4:00:00</td>\n",
       "      <td>3</td>\n",
       "      <td>0</td>\n",
       "      <td>0</td>\n",
       "      <td>2</td>\n",
       "      <td>25.42</td>\n",
       "      <td>27.275</td>\n",
       "      <td>94.0</td>\n",
       "      <td>0.0000</td>\n",
       "      <td>3</td>\n",
       "      <td>15</td>\n",
       "    </tr>\n",
       "    <tr>\n",
       "      <th>4</th>\n",
       "      <td>2012-06-30 5:00:00</td>\n",
       "      <td>3</td>\n",
       "      <td>0</td>\n",
       "      <td>0</td>\n",
       "      <td>1</td>\n",
       "      <td>26.24</td>\n",
       "      <td>28.790</td>\n",
       "      <td>89.0</td>\n",
       "      <td>11.0014</td>\n",
       "      <td>3</td>\n",
       "      <td>7</td>\n",
       "    </tr>\n",
       "  </tbody>\n",
       "</table>\n",
       "</div>"
      ],
      "text/plain": [
       "             datetime  season  holiday  workingday  weather   temp   atemp  \\\n",
       "0  2012-06-30 1:00:00       3        0           0        3  26.24  28.790   \n",
       "1  2012-06-30 2:00:00       3        0           0        2  26.24  28.790   \n",
       "2  2012-06-30 3:00:00       3        0           0        2  26.24  28.790   \n",
       "3  2012-06-30 4:00:00       3        0           0        2  25.42  27.275   \n",
       "4  2012-06-30 5:00:00       3        0           0        1  26.24  28.790   \n",
       "\n",
       "   humidity  windspeed  casual  registered  \n",
       "0      89.0    15.0013       3          55  \n",
       "1      89.0     0.0000       7          54  \n",
       "2      89.0     0.0000       3          20  \n",
       "3      94.0     0.0000       3          15  \n",
       "4      89.0    11.0014       3           7  "
      ]
     },
     "execution_count": 5,
     "metadata": {},
     "output_type": "execute_result"
    }
   ],
   "source": [
    "#test's top 5 rows\n",
    "test.head()"
   ]
  },
  {
   "cell_type": "code",
   "execution_count": 6,
   "metadata": {},
   "outputs": [],
   "source": [
    "# so here we can clearly see that count is missing in test so our dependent variable is COUNT"
   ]
  },
  {
   "cell_type": "code",
   "execution_count": 7,
   "metadata": {},
   "outputs": [
    {
     "data": {
      "text/plain": [
       "datetime       object\n",
       "season          int64\n",
       "holiday         int64\n",
       "workingday      int64\n",
       "weather         int64\n",
       "temp          float64\n",
       "atemp         float64\n",
       "humidity      float64\n",
       "windspeed     float64\n",
       "casual          int64\n",
       "registered      int64\n",
       "count           int64\n",
       "dtype: object"
      ]
     },
     "execution_count": 7,
     "metadata": {},
     "output_type": "execute_result"
    }
   ],
   "source": [
    "#checking type of data in train\n",
    "\n",
    "train.dtypes"
   ]
  },
  {
   "cell_type": "code",
   "execution_count": 8,
   "metadata": {},
   "outputs": [
    {
     "data": {
      "text/plain": [
       "datetime      0\n",
       "season        0\n",
       "holiday       0\n",
       "workingday    0\n",
       "weather       0\n",
       "temp          0\n",
       "atemp         0\n",
       "humidity      0\n",
       "windspeed     0\n",
       "casual        0\n",
       "registered    0\n",
       "count         0\n",
       "dtype: int64"
      ]
     },
     "execution_count": 8,
     "metadata": {},
     "output_type": "execute_result"
    }
   ],
   "source": [
    "#checking null conditions for train\n",
    "\n",
    "train.isnull().sum()"
   ]
  },
  {
   "cell_type": "code",
   "execution_count": 9,
   "metadata": {},
   "outputs": [
    {
     "data": {
      "text/plain": [
       "datetime      0\n",
       "season        0\n",
       "holiday       0\n",
       "workingday    0\n",
       "weather       0\n",
       "temp          0\n",
       "atemp         0\n",
       "humidity      0\n",
       "windspeed     0\n",
       "casual        0\n",
       "registered    0\n",
       "dtype: int64"
      ]
     },
     "execution_count": 9,
     "metadata": {},
     "output_type": "execute_result"
    }
   ],
   "source": [
    "#checking null conditions for test\n",
    "\n",
    "test.isnull().sum()"
   ]
  },
  {
   "cell_type": "code",
   "execution_count": 10,
   "metadata": {},
   "outputs": [
    {
     "name": "stderr",
     "output_type": "stream",
     "text": [
      "C:\\anaconda\\lib\\site-packages\\scipy\\stats\\stats.py:1713: FutureWarning: Using a non-tuple sequence for multidimensional indexing is deprecated; use `arr[tuple(seq)]` instead of `arr[seq]`. In the future this will be interpreted as an array index, `arr[np.array(seq)]`, which will result either in an error or a different result.\n",
      "  return np.add.reduce(sorted[indexer] * weights, axis=axis) / sumval\n"
     ]
    },
    {
     "data": {
      "text/plain": [
       "<matplotlib.axes._subplots.AxesSubplot at 0x2783c58cb00>"
      ]
     },
     "execution_count": 10,
     "metadata": {},
     "output_type": "execute_result"
    },
    {
     "data": {
      "image/png": "[encoded data removed]",
      "text/plain": [
       "<Figure size 432x288 with 1 Axes>"
      ]
     },
     "metadata": {
      "needs_background": "light"
     },
     "output_type": "display_data"
    }
   ],
   "source": [
    "#checking skewness of distibution count\n",
    "\n",
    "sn.distplot(train['count'])"
   ]
  },
  {
   "cell_type": "code",
   "execution_count": 11,
   "metadata": {},
   "outputs": [
    {
     "data": {
      "text/plain": [
       "<matplotlib.axes._subplots.AxesSubplot at 0x2783c8895c0>"
      ]
     },
     "execution_count": 11,
     "metadata": {},
     "output_type": "execute_result"
    },
    {
     "data": {
      "image/png": "[encoded data removed]",
      "text/plain": [
       "<Figure size 432x288 with 1 Axes>"
      ]
     },
     "metadata": {
      "needs_background": "light"
     },
     "output_type": "display_data"
    }
   ],
   "source": [
    "#it is found left skewed so we transform and check its skewness\n",
    "#taking log because of skewness we have found\n",
    "\n",
    "sn.distplot(np.log(train['count']))"
   ]
  },
  {
   "cell_type": "code",
   "execution_count": 12,
   "metadata": {},
   "outputs": [
    {
     "data": {
      "text/plain": [
       "<matplotlib.axes._subplots.AxesSubplot at 0x2783d93d940>"
      ]
     },
     "execution_count": 12,
     "metadata": {},
     "output_type": "execute_result"
    },
    {
     "data": {
      "image/png": "[encoded data removed]",
      "text/plain": [
       "<Figure size 432x288 with 1 Axes>"
      ]
     },
     "metadata": {
      "needs_background": "light"
     },
     "output_type": "display_data"
    }
   ],
   "source": [
    "#looks less skewed but we will try to find better option\n",
    "\n",
    "sn.distplot(np.sqrt(train['count']))"
   ]
  },
  {
   "cell_type": "code",
   "execution_count": 13,
   "metadata": {},
   "outputs": [],
   "source": [
    "#so we can see it was found best on log graph"
   ]
  },
  {
   "cell_type": "code",
   "execution_count": 14,
   "metadata": {},
   "outputs": [
    {
     "data": {
      "text/plain": [
       "<matplotlib.axes._subplots.AxesSubplot at 0x2783d908ef0>"
      ]
     },
     "execution_count": 14,
     "metadata": {},
     "output_type": "execute_result"
    },
    {
     "data": {
      "image/png": "[encoded data removed]",
      "text/plain": [
       "<Figure size 432x288 with 1 Axes>"
      ]
     },
     "metadata": {
      "needs_background": "light"
     },
     "output_type": "display_data"
    }
   ],
   "source": [
    "# checking registered users data\n",
    "\n",
    "sn.distplot(train['registered'])"
   ]
  },
  {
   "cell_type": "code",
   "execution_count": 15,
   "metadata": {},
   "outputs": [
    {
     "data": {
      "text/plain": [
       "<matplotlib.axes._subplots.AxesSubplot at 0x2783dac6c88>"
      ]
     },
     "execution_count": 15,
     "metadata": {},
     "output_type": "execute_result"
    },
    {
     "data": {
      "image/png": "[encoded data removed]",
      "text/plain": [
       "<Figure size 432x288 with 1 Axes>"
      ]
     },
     "metadata": {
      "needs_background": "light"
     },
     "output_type": "display_data"
    }
   ],
   "source": [
    "# checking registered users data with count\n",
    "\n",
    "sn.distplot(train['count'])\n",
    "sn.distplot(train['registered'])"
   ]
  },
  {
   "cell_type": "code",
   "execution_count": 16,
   "metadata": {},
   "outputs": [],
   "source": [
    "#so here we can see according to KDE the number of registered vechiles is always less than the count"
   ]
  },
  {
   "cell_type": "code",
   "execution_count": 17,
   "metadata": {},
   "outputs": [
    {
     "data": {
      "text/html": [
       "<style  type=\"text/css\" >\n",
       "    #T_0fd2ee18_ce33_11e9_bea0_e89a8fa23d65row0_col0 {\n",
       "            background-color:  #000000;\n",
       "        }    #T_0fd2ee18_ce33_11e9_bea0_e89a8fa23d65row0_col1 {\n",
       "            background-color:  #c7a676;\n",
       "        }    #T_0fd2ee18_ce33_11e9_bea0_e89a8fa23d65row0_col2 {\n",
       "            background-color:  #bdab62;\n",
       "        }    #T_0fd2ee18_ce33_11e9_bea0_e89a8fa23d65row0_col3 {\n",
       "            background-color:  #d9b59d;\n",
       "        }    #T_0fd2ee18_ce33_11e9_bea0_e89a8fa23d65row0_col4 {\n",
       "            background-color:  #7aa752;\n",
       "        }    #T_0fd2ee18_ce33_11e9_bea0_e89a8fa23d65row0_col5 {\n",
       "            background-color:  #78a652;\n",
       "        }    #T_0fd2ee18_ce33_11e9_bea0_e89a8fa23d65row0_col6 {\n",
       "            background-color:  #96ae58;\n",
       "        }    #T_0fd2ee18_ce33_11e9_bea0_e89a8fa23d65row0_col7 {\n",
       "            background-color:  #dab7a0;\n",
       "        }    #T_0fd2ee18_ce33_11e9_bea0_e89a8fa23d65row0_col8 {\n",
       "            background-color:  #afb55c;\n",
       "        }    #T_0fd2ee18_ce33_11e9_bea0_e89a8fa23d65row0_col9 {\n",
       "            background-color:  #b9b35f;\n",
       "        }    #T_0fd2ee18_ce33_11e9_bea0_e89a8fa23d65row0_col10 {\n",
       "            background-color:  #b0b55d;\n",
       "        }    #T_0fd2ee18_ce33_11e9_bea0_e89a8fa23d65row1_col0 {\n",
       "            background-color:  #debba7;\n",
       "        }    #T_0fd2ee18_ce33_11e9_bea0_e89a8fa23d65row1_col1 {\n",
       "            background-color:  #000000;\n",
       "        }    #T_0fd2ee18_ce33_11e9_bea0_e89a8fa23d65row1_col2 {\n",
       "            background-color:  #f1dcda;\n",
       "        }    #T_0fd2ee18_ce33_11e9_bea0_e89a8fa23d65row1_col3 {\n",
       "            background-color:  #dab7a0;\n",
       "        }    #T_0fd2ee18_ce33_11e9_bea0_e89a8fa23d65row1_col4 {\n",
       "            background-color:  #ebd1cb;\n",
       "        }    #T_0fd2ee18_ce33_11e9_bea0_e89a8fa23d65row1_col5 {\n",
       "            background-color:  #edd5d1;\n",
       "        }    #T_0fd2ee18_ce33_11e9_bea0_e89a8fa23d65row1_col6 {\n",
       "            background-color:  #c0a565;\n",
       "        }    #T_0fd2ee18_ce33_11e9_bea0_e89a8fa23d65row1_col7 {\n",
       "            background-color:  #bdaa63;\n",
       "        }    #T_0fd2ee18_ce33_11e9_bea0_e89a8fa23d65row1_col8 {\n",
       "            background-color:  #bbae61;\n",
       "        }    #T_0fd2ee18_ce33_11e9_bea0_e89a8fa23d65row1_col9 {\n",
       "            background-color:  #caa87b;\n",
       "        }    #T_0fd2ee18_ce33_11e9_bea0_e89a8fa23d65row1_col10 {\n",
       "            background-color:  #c0a565;\n",
       "        }    #T_0fd2ee18_ce33_11e9_bea0_e89a8fa23d65row2_col0 {\n",
       "            background-color:  #d8b49b;\n",
       "        }    #T_0fd2ee18_ce33_11e9_bea0_e89a8fa23d65row2_col1 {\n",
       "            background-color:  #fdfbfb;\n",
       "        }    #T_0fd2ee18_ce33_11e9_bea0_e89a8fa23d65row2_col2 {\n",
       "            background-color:  #000000;\n",
       "        }    #T_0fd2ee18_ce33_11e9_bea0_e89a8fa23d65row2_col3 {\n",
       "            background-color:  #c8a779;\n",
       "        }    #T_0fd2ee18_ce33_11e9_bea0_e89a8fa23d65row2_col4 {\n",
       "            background-color:  #d5b194;\n",
       "        }    #T_0fd2ee18_ce33_11e9_bea0_e89a8fa23d65row2_col5 {\n",
       "            background-color:  #d4b091;\n",
       "        }    #T_0fd2ee18_ce33_11e9_bea0_e89a8fa23d65row2_col6 {\n",
       "            background-color:  #bbae61;\n",
       "        }    #T_0fd2ee18_ce33_11e9_bea0_e89a8fa23d65row2_col7 {\n",
       "            background-color:  #bfa764;\n",
       "        }    #T_0fd2ee18_ce33_11e9_bea0_e89a8fa23d65row2_col8 {\n",
       "            background-color:  #fbf5f5;\n",
       "        }    #T_0fd2ee18_ce33_11e9_bea0_e89a8fa23d65row2_col9 {\n",
       "            background-color:  #afb55c;\n",
       "        }    #T_0fd2ee18_ce33_11e9_bea0_e89a8fa23d65row2_col10 {\n",
       "            background-color:  #bcad62;\n",
       "        }    #T_0fd2ee18_ce33_11e9_bea0_e89a8fa23d65row3_col0 {\n",
       "            background-color:  #dfbcaa;\n",
       "        }    #T_0fd2ee18_ce33_11e9_bea0_e89a8fa23d65row3_col1 {\n",
       "            background-color:  #c8a779;\n",
       "        }    #T_0fd2ee18_ce33_11e9_bea0_e89a8fa23d65row3_col2 {\n",
       "            background-color:  #bab160;\n",
       "        }    #T_0fd2ee18_ce33_11e9_bea0_e89a8fa23d65row3_col3 {\n",
       "            background-color:  #000000;\n",
       "        }    #T_0fd2ee18_ce33_11e9_bea0_e89a8fa23d65row3_col4 {\n",
       "            background-color:  #fdfbfb;\n",
       "        }    #T_0fd2ee18_ce33_11e9_bea0_e89a8fa23d65row3_col5 {\n",
       "            background-color:  #fdfbfb;\n",
       "        }    #T_0fd2ee18_ce33_11e9_bea0_e89a8fa23d65row3_col6 {\n",
       "            background-color:  #419552;\n",
       "        }    #T_0fd2ee18_ce33_11e9_bea0_e89a8fa23d65row3_col7 {\n",
       "            background-color:  #bea863;\n",
       "        }    #T_0fd2ee18_ce33_11e9_bea0_e89a8fa23d65row3_col8 {\n",
       "            background-color:  #dbb8a2;\n",
       "        }    #T_0fd2ee18_ce33_11e9_bea0_e89a8fa23d65row3_col9 {\n",
       "            background-color:  #debba7;\n",
       "        }    #T_0fd2ee18_ce33_11e9_bea0_e89a8fa23d65row3_col10 {\n",
       "            background-color:  #dab7a0;\n",
       "        }    #T_0fd2ee18_ce33_11e9_bea0_e89a8fa23d65row4_col0 {\n",
       "            background-color:  #6fa450;\n",
       "        }    #T_0fd2ee18_ce33_11e9_bea0_e89a8fa23d65row4_col1 {\n",
       "            background-color:  #cba97e;\n",
       "        }    #T_0fd2ee18_ce33_11e9_bea0_e89a8fa23d65row4_col2 {\n",
       "            background-color:  #b9b360;\n",
       "        }    #T_0fd2ee18_ce33_11e9_bea0_e89a8fa23d65row4_col3 {\n",
       "            background-color:  #ecd3ce;\n",
       "        }    #T_0fd2ee18_ce33_11e9_bea0_e89a8fa23d65row4_col4 {\n",
       "            background-color:  #000000;\n",
       "        }    #T_0fd2ee18_ce33_11e9_bea0_e89a8fa23d65row4_col5 {\n",
       "            background-color:  #01002b;\n",
       "        }    #T_0fd2ee18_ce33_11e9_bea0_e89a8fa23d65row4_col6 {\n",
       "            background-color:  #c2a46a;\n",
       "        }    #T_0fd2ee18_ce33_11e9_bea0_e89a8fa23d65row4_col7 {\n",
       "            background-color:  #c0a565;\n",
       "        }    #T_0fd2ee18_ce33_11e9_bea0_e89a8fa23d65row4_col8 {\n",
       "            background-color:  #3f9258;\n",
       "        }    #T_0fd2ee18_ce33_11e9_bea0_e89a8fa23d65row4_col9 {\n",
       "            background-color:  #64a24d;\n",
       "        }    #T_0fd2ee18_ce33_11e9_bea0_e89a8fa23d65row4_col10 {\n",
       "            background-color:  #43984d;\n",
       "        }    #T_0fd2ee18_ce33_11e9_bea0_e89a8fa23d65row5_col0 {\n",
       "            background-color:  #6da44f;\n",
       "        }    #T_0fd2ee18_ce33_11e9_bea0_e89a8fa23d65row5_col1 {\n",
       "            background-color:  #ccaa80;\n",
       "        }    #T_0fd2ee18_ce33_11e9_bea0_e89a8fa23d65row5_col2 {\n",
       "            background-color:  #b9b360;\n",
       "        }    #T_0fd2ee18_ce33_11e9_bea0_e89a8fa23d65row5_col3 {\n",
       "            background-color:  #edd5d1;\n",
       "        }    #T_0fd2ee18_ce33_11e9_bea0_e89a8fa23d65row5_col4 {\n",
       "            background-color:  #01002b;\n",
       "        }    #T_0fd2ee18_ce33_11e9_bea0_e89a8fa23d65row5_col5 {\n",
       "            background-color:  #000000;\n",
       "        }    #T_0fd2ee18_ce33_11e9_bea0_e89a8fa23d65row5_col6 {\n",
       "            background-color:  #c0a565;\n",
       "        }    #T_0fd2ee18_ce33_11e9_bea0_e89a8fa23d65row5_col7 {\n",
       "            background-color:  #c7a676;\n",
       "        }    #T_0fd2ee18_ce33_11e9_bea0_e89a8fa23d65row5_col8 {\n",
       "            background-color:  #409357;\n",
       "        }    #T_0fd2ee18_ce33_11e9_bea0_e89a8fa23d65row5_col9 {\n",
       "            background-color:  #64a24d;\n",
       "        }    #T_0fd2ee18_ce33_11e9_bea0_e89a8fa23d65row5_col10 {\n",
       "            background-color:  #43984d;\n",
       "        }    #T_0fd2ee18_ce33_11e9_bea0_e89a8fa23d65row6_col0 {\n",
       "            background-color:  #b9b260;\n",
       "        }    #T_0fd2ee18_ce33_11e9_bea0_e89a8fa23d65row6_col1 {\n",
       "            background-color:  #ccaa80;\n",
       "        }    #T_0fd2ee18_ce33_11e9_bea0_e89a8fa23d65row6_col2 {\n",
       "            background-color:  #bcac62;\n",
       "        }    #T_0fd2ee18_ce33_11e9_bea0_e89a8fa23d65row6_col3 {\n",
       "            background-color:  #579f4a;\n",
       "        }    #T_0fd2ee18_ce33_11e9_bea0_e89a8fa23d65row6_col4 {\n",
       "            background-color:  #f2dedd;\n",
       "        }    #T_0fd2ee18_ce33_11e9_bea0_e89a8fa23d65row6_col5 {\n",
       "            background-color:  #edd5d1;\n",
       "        }    #T_0fd2ee18_ce33_11e9_bea0_e89a8fa23d65row6_col6 {\n",
       "            background-color:  #000000;\n",
       "        }    #T_0fd2ee18_ce33_11e9_bea0_e89a8fa23d65row6_col7 {\n",
       "            background-color:  #fdfbfb;\n",
       "        }    #T_0fd2ee18_ce33_11e9_bea0_e89a8fa23d65row6_col8 {\n",
       "            background-color:  #fdfbfb;\n",
       "        }    #T_0fd2ee18_ce33_11e9_bea0_e89a8fa23d65row6_col9 {\n",
       "            background-color:  #fdfbfb;\n",
       "        }    #T_0fd2ee18_ce33_11e9_bea0_e89a8fa23d65row6_col10 {\n",
       "            background-color:  #fdfbfb;\n",
       "        }    #T_0fd2ee18_ce33_11e9_bea0_e89a8fa23d65row7_col0 {\n",
       "            background-color:  #fdfbfb;\n",
       "        }    #T_0fd2ee18_ce33_11e9_bea0_e89a8fa23d65row7_col1 {\n",
       "            background-color:  #c0a465;\n",
       "        }    #T_0fd2ee18_ce33_11e9_bea0_e89a8fa23d65row7_col2 {\n",
       "            background-color:  #bea863;\n",
       "        }    #T_0fd2ee18_ce33_11e9_bea0_e89a8fa23d65row7_col3 {\n",
       "            background-color:  #d3af8f;\n",
       "        }    #T_0fd2ee18_ce33_11e9_bea0_e89a8fa23d65row7_col4 {\n",
       "            background-color:  #e8cbc2;\n",
       "        }    #T_0fd2ee18_ce33_11e9_bea0_e89a8fa23d65row7_col5 {\n",
       "            background-color:  #f2dedd;\n",
       "        }    #T_0fd2ee18_ce33_11e9_bea0_e89a8fa23d65row7_col6 {\n",
       "            background-color:  #f9efef;\n",
       "        }    #T_0fd2ee18_ce33_11e9_bea0_e89a8fa23d65row7_col7 {\n",
       "            background-color:  #000000;\n",
       "        }    #T_0fd2ee18_ce33_11e9_bea0_e89a8fa23d65row7_col8 {\n",
       "            background-color:  #b7b75e;\n",
       "        }    #T_0fd2ee18_ce33_11e9_bea0_e89a8fa23d65row7_col9 {\n",
       "            background-color:  #b7b65e;\n",
       "        }    #T_0fd2ee18_ce33_11e9_bea0_e89a8fa23d65row7_col10 {\n",
       "            background-color:  #afb55c;\n",
       "        }    #T_0fd2ee18_ce33_11e9_bea0_e89a8fa23d65row8_col0 {\n",
       "            background-color:  #c1a367;\n",
       "        }    #T_0fd2ee18_ce33_11e9_bea0_e89a8fa23d65row8_col1 {\n",
       "            background-color:  #c0a565;\n",
       "        }    #T_0fd2ee18_ce33_11e9_bea0_e89a8fa23d65row8_col2 {\n",
       "            background-color:  #fdfbfb;\n",
       "        }    #T_0fd2ee18_ce33_11e9_bea0_e89a8fa23d65row8_col3 {\n",
       "            background-color:  #fdfbfb;\n",
       "        }    #T_0fd2ee18_ce33_11e9_bea0_e89a8fa23d65row8_col4 {\n",
       "            background-color:  #599f4a;\n",
       "        }    #T_0fd2ee18_ce33_11e9_bea0_e89a8fa23d65row8_col5 {\n",
       "            background-color:  #5ba04b;\n",
       "        }    #T_0fd2ee18_ce33_11e9_bea0_e89a8fa23d65row8_col6 {\n",
       "            background-color:  #fdfbfb;\n",
       "        }    #T_0fd2ee18_ce33_11e9_bea0_e89a8fa23d65row8_col7 {\n",
       "            background-color:  #b8b45f;\n",
       "        }    #T_0fd2ee18_ce33_11e9_bea0_e89a8fa23d65row8_col8 {\n",
       "            background-color:  #000000;\n",
       "        }    #T_0fd2ee18_ce33_11e9_bea0_e89a8fa23d65row8_col9 {\n",
       "            background-color:  #3c8f60;\n",
       "        }    #T_0fd2ee18_ce33_11e9_bea0_e89a8fa23d65row8_col10 {\n",
       "            background-color:  #25677d;\n",
       "        }    #T_0fd2ee18_ce33_11e9_bea0_e89a8fa23d65row9_col0 {\n",
       "            background-color:  #c6a574;\n",
       "        }    #T_0fd2ee18_ce33_11e9_bea0_e89a8fa23d65row9_col1 {\n",
       "            background-color:  #cfac87;\n",
       "        }    #T_0fd2ee18_ce33_11e9_bea0_e89a8fa23d65row9_col2 {\n",
       "            background-color:  #a8b35b;\n",
       "        }    #T_0fd2ee18_ce33_11e9_bea0_e89a8fa23d65row9_col3 {\n",
       "            background-color:  #f7ecec;\n",
       "        }    #T_0fd2ee18_ce33_11e9_bea0_e89a8fa23d65row9_col4 {\n",
       "            background-color:  #8eac56;\n",
       "        }    #T_0fd2ee18_ce33_11e9_bea0_e89a8fa23d65row9_col5 {\n",
       "            background-color:  #8eac56;\n",
       "        }    #T_0fd2ee18_ce33_11e9_bea0_e89a8fa23d65row9_col6 {\n",
       "            background-color:  #f4e4e3;\n",
       "        }    #T_0fd2ee18_ce33_11e9_bea0_e89a8fa23d65row9_col7 {\n",
       "            background-color:  #b5b65e;\n",
       "        }    #T_0fd2ee18_ce33_11e9_bea0_e89a8fa23d65row9_col8 {\n",
       "            background-color:  #3b8d63;\n",
       "        }    #T_0fd2ee18_ce33_11e9_bea0_e89a8fa23d65row9_col9 {\n",
       "            background-color:  #000000;\n",
       "        }    #T_0fd2ee18_ce33_11e9_bea0_e89a8fa23d65row9_col10 {\n",
       "            background-color:  #040064;\n",
       "        }    #T_0fd2ee18_ce33_11e9_bea0_e89a8fa23d65row10_col0 {\n",
       "            background-color:  #c2a46a;\n",
       "        }    #T_0fd2ee18_ce33_11e9_bea0_e89a8fa23d65row10_col1 {\n",
       "            background-color:  #ccaa80;\n",
       "        }    #T_0fd2ee18_ce33_11e9_bea0_e89a8fa23d65row10_col2 {\n",
       "            background-color:  #bdab62;\n",
       "        }    #T_0fd2ee18_ce33_11e9_bea0_e89a8fa23d65row10_col3 {\n",
       "            background-color:  #fdfbfb;\n",
       "        }    #T_0fd2ee18_ce33_11e9_bea0_e89a8fa23d65row10_col4 {\n",
       "            background-color:  #6fa450;\n",
       "        }    #T_0fd2ee18_ce33_11e9_bea0_e89a8fa23d65row10_col5 {\n",
       "            background-color:  #72a551;\n",
       "        }    #T_0fd2ee18_ce33_11e9_bea0_e89a8fa23d65row10_col6 {\n",
       "            background-color:  #fdfbfb;\n",
       "        }    #T_0fd2ee18_ce33_11e9_bea0_e89a8fa23d65row10_col7 {\n",
       "            background-color:  #b4b65d;\n",
       "        }    #T_0fd2ee18_ce33_11e9_bea0_e89a8fa23d65row10_col8 {\n",
       "            background-color:  #25677d;\n",
       "        }    #T_0fd2ee18_ce33_11e9_bea0_e89a8fa23d65row10_col9 {\n",
       "            background-color:  #040064;\n",
       "        }    #T_0fd2ee18_ce33_11e9_bea0_e89a8fa23d65row10_col10 {\n",
       "            background-color:  #000000;\n",
       "        }</style>  \n",
       "<table id=\"T_0fd2ee18_ce33_11e9_bea0_e89a8fa23d65\" > \n",
       "<thead>    <tr> \n",
       "        <th class=\"blank level0\" ></th> \n",
       "        <th class=\"col_heading level0 col0\" >season</th> \n",
       "        <th class=\"col_heading level0 col1\" >holiday</th> \n",
       "        <th class=\"col_heading level0 col2\" >workingday</th> \n",
       "        <th class=\"col_heading level0 col3\" >weather</th> \n",
       "        <th class=\"col_heading level0 col4\" >temp</th> \n",
       "        <th class=\"col_heading level0 col5\" >atemp</th> \n",
       "        <th class=\"col_heading level0 col6\" >humidity</th> \n",
       "        <th class=\"col_heading level0 col7\" >windspeed</th> \n",
       "        <th class=\"col_heading level0 col8\" >casual</th> \n",
       "        <th class=\"col_heading level0 col9\" >registered</th> \n",
       "        <th class=\"col_heading level0 col10\" >count</th> \n",
       "    </tr></thead> \n",
       "<tbody>    <tr> \n",
       "        <th id=\"T_0fd2ee18_ce33_11e9_bea0_e89a8fa23d65level0_row0\" class=\"row_heading level0 row0\" >season</th> \n",
       "        <td id=\"T_0fd2ee18_ce33_11e9_bea0_e89a8fa23d65row0_col0\" class=\"data row0 col0\" >1</td> \n",
       "        <td id=\"T_0fd2ee18_ce33_11e9_bea0_e89a8fa23d65row0_col1\" class=\"data row0 col1\" >-0.011</td> \n",
       "        <td id=\"T_0fd2ee18_ce33_11e9_bea0_e89a8fa23d65row0_col2\" class=\"data row0 col2\" >0.014</td> \n",
       "        <td id=\"T_0fd2ee18_ce33_11e9_bea0_e89a8fa23d65row0_col3\" class=\"data row0 col3\" >-0.013</td> \n",
       "        <td id=\"T_0fd2ee18_ce33_11e9_bea0_e89a8fa23d65row0_col4\" class=\"data row0 col4\" >0.39</td> \n",
       "        <td id=\"T_0fd2ee18_ce33_11e9_bea0_e89a8fa23d65row0_col5\" class=\"data row0 col5\" >0.4</td> \n",
       "        <td id=\"T_0fd2ee18_ce33_11e9_bea0_e89a8fa23d65row0_col6\" class=\"data row0 col6\" >0.18</td> \n",
       "        <td id=\"T_0fd2ee18_ce33_11e9_bea0_e89a8fa23d65row0_col7\" class=\"data row0 col7\" >-0.14</td> \n",
       "        <td id=\"T_0fd2ee18_ce33_11e9_bea0_e89a8fa23d65row0_col8\" class=\"data row0 col8\" >0.1</td> \n",
       "        <td id=\"T_0fd2ee18_ce33_11e9_bea0_e89a8fa23d65row0_col9\" class=\"data row0 col9\" >0.086</td> \n",
       "        <td id=\"T_0fd2ee18_ce33_11e9_bea0_e89a8fa23d65row0_col10\" class=\"data row0 col10\" >0.1</td> \n",
       "    </tr>    <tr> \n",
       "        <th id=\"T_0fd2ee18_ce33_11e9_bea0_e89a8fa23d65level0_row1\" class=\"row_heading level0 row1\" >holiday</th> \n",
       "        <td id=\"T_0fd2ee18_ce33_11e9_bea0_e89a8fa23d65row1_col0\" class=\"data row1 col0\" >-0.011</td> \n",
       "        <td id=\"T_0fd2ee18_ce33_11e9_bea0_e89a8fa23d65row1_col1\" class=\"data row1 col1\" >1</td> \n",
       "        <td id=\"T_0fd2ee18_ce33_11e9_bea0_e89a8fa23d65row1_col2\" class=\"data row1 col2\" >-0.25</td> \n",
       "        <td id=\"T_0fd2ee18_ce33_11e9_bea0_e89a8fa23d65row1_col3\" class=\"data row1 col3\" >-0.018</td> \n",
       "        <td id=\"T_0fd2ee18_ce33_11e9_bea0_e89a8fa23d65row1_col4\" class=\"data row1 col4\" >-0.025</td> \n",
       "        <td id=\"T_0fd2ee18_ce33_11e9_bea0_e89a8fa23d65row1_col5\" class=\"data row1 col5\" >-0.033</td> \n",
       "        <td id=\"T_0fd2ee18_ce33_11e9_bea0_e89a8fa23d65row1_col6\" class=\"data row1 col6\" >-0.03</td> \n",
       "        <td id=\"T_0fd2ee18_ce33_11e9_bea0_e89a8fa23d65row1_col7\" class=\"data row1 col7\" >0.022</td> \n",
       "        <td id=\"T_0fd2ee18_ce33_11e9_bea0_e89a8fa23d65row1_col8\" class=\"data row1 col8\" >0.029</td> \n",
       "        <td id=\"T_0fd2ee18_ce33_11e9_bea0_e89a8fa23d65row1_col9\" class=\"data row1 col9\" >-0.046</td> \n",
       "        <td id=\"T_0fd2ee18_ce33_11e9_bea0_e89a8fa23d65row1_col10\" class=\"data row1 col10\" >-0.029</td> \n",
       "    </tr>    <tr> \n",
       "        <th id=\"T_0fd2ee18_ce33_11e9_bea0_e89a8fa23d65level0_row2\" class=\"row_heading level0 row2\" >workingday</th> \n",
       "        <td id=\"T_0fd2ee18_ce33_11e9_bea0_e89a8fa23d65row2_col0\" class=\"data row2 col0\" >0.014</td> \n",
       "        <td id=\"T_0fd2ee18_ce33_11e9_bea0_e89a8fa23d65row2_col1\" class=\"data row2 col1\" >-0.25</td> \n",
       "        <td id=\"T_0fd2ee18_ce33_11e9_bea0_e89a8fa23d65row2_col2\" class=\"data row2 col2\" >1</td> \n",
       "        <td id=\"T_0fd2ee18_ce33_11e9_bea0_e89a8fa23d65row2_col3\" class=\"data row2 col3\" >0.053</td> \n",
       "        <td id=\"T_0fd2ee18_ce33_11e9_bea0_e89a8fa23d65row2_col4\" class=\"data row2 col4\" >0.061</td> \n",
       "        <td id=\"T_0fd2ee18_ce33_11e9_bea0_e89a8fa23d65row2_col5\" class=\"data row2 col5\" >0.065</td> \n",
       "        <td id=\"T_0fd2ee18_ce33_11e9_bea0_e89a8fa23d65row2_col6\" class=\"data row2 col6\" >0.028</td> \n",
       "        <td id=\"T_0fd2ee18_ce33_11e9_bea0_e89a8fa23d65row2_col7\" class=\"data row2 col7\" >0.002</td> \n",
       "        <td id=\"T_0fd2ee18_ce33_11e9_bea0_e89a8fa23d65row2_col8\" class=\"data row2 col8\" >-0.31</td> \n",
       "        <td id=\"T_0fd2ee18_ce33_11e9_bea0_e89a8fa23d65row2_col9\" class=\"data row2 col9\" >0.13</td> \n",
       "        <td id=\"T_0fd2ee18_ce33_11e9_bea0_e89a8fa23d65row2_col10\" class=\"data row2 col10\" >0.019</td> \n",
       "    </tr>    <tr> \n",
       "        <th id=\"T_0fd2ee18_ce33_11e9_bea0_e89a8fa23d65level0_row3\" class=\"row_heading level0 row3\" >weather</th> \n",
       "        <td id=\"T_0fd2ee18_ce33_11e9_bea0_e89a8fa23d65row3_col0\" class=\"data row3 col0\" >-0.013</td> \n",
       "        <td id=\"T_0fd2ee18_ce33_11e9_bea0_e89a8fa23d65row3_col1\" class=\"data row3 col1\" >-0.018</td> \n",
       "        <td id=\"T_0fd2ee18_ce33_11e9_bea0_e89a8fa23d65row3_col2\" class=\"data row3 col2\" >0.053</td> \n",
       "        <td id=\"T_0fd2ee18_ce33_11e9_bea0_e89a8fa23d65row3_col3\" class=\"data row3 col3\" >1</td> \n",
       "        <td id=\"T_0fd2ee18_ce33_11e9_bea0_e89a8fa23d65row3_col4\" class=\"data row3 col4\" >-0.094</td> \n",
       "        <td id=\"T_0fd2ee18_ce33_11e9_bea0_e89a8fa23d65row3_col5\" class=\"data row3 col5\" >-0.095</td> \n",
       "        <td id=\"T_0fd2ee18_ce33_11e9_bea0_e89a8fa23d65row3_col6\" class=\"data row3 col6\" >0.43</td> \n",
       "        <td id=\"T_0fd2ee18_ce33_11e9_bea0_e89a8fa23d65row3_col7\" class=\"data row3 col7\" >0.011</td> \n",
       "        <td id=\"T_0fd2ee18_ce33_11e9_bea0_e89a8fa23d65row3_col8\" class=\"data row3 col8\" >-0.16</td> \n",
       "        <td id=\"T_0fd2ee18_ce33_11e9_bea0_e89a8fa23d65row3_col9\" class=\"data row3 col9\" >-0.14</td> \n",
       "        <td id=\"T_0fd2ee18_ce33_11e9_bea0_e89a8fa23d65row3_col10\" class=\"data row3 col10\" >-0.16</td> \n",
       "    </tr>    <tr> \n",
       "        <th id=\"T_0fd2ee18_ce33_11e9_bea0_e89a8fa23d65level0_row4\" class=\"row_heading level0 row4\" >temp</th> \n",
       "        <td id=\"T_0fd2ee18_ce33_11e9_bea0_e89a8fa23d65row4_col0\" class=\"data row4 col0\" >0.39</td> \n",
       "        <td id=\"T_0fd2ee18_ce33_11e9_bea0_e89a8fa23d65row4_col1\" class=\"data row4 col1\" >-0.025</td> \n",
       "        <td id=\"T_0fd2ee18_ce33_11e9_bea0_e89a8fa23d65row4_col2\" class=\"data row4 col2\" >0.061</td> \n",
       "        <td id=\"T_0fd2ee18_ce33_11e9_bea0_e89a8fa23d65row4_col3\" class=\"data row4 col3\" >-0.094</td> \n",
       "        <td id=\"T_0fd2ee18_ce33_11e9_bea0_e89a8fa23d65row4_col4\" class=\"data row4 col4\" >1</td> \n",
       "        <td id=\"T_0fd2ee18_ce33_11e9_bea0_e89a8fa23d65row4_col5\" class=\"data row4 col5\" >0.99</td> \n",
       "        <td id=\"T_0fd2ee18_ce33_11e9_bea0_e89a8fa23d65row4_col6\" class=\"data row4 col6\" >-0.048</td> \n",
       "        <td id=\"T_0fd2ee18_ce33_11e9_bea0_e89a8fa23d65row4_col7\" class=\"data row4 col7\" >-0.0087</td> \n",
       "        <td id=\"T_0fd2ee18_ce33_11e9_bea0_e89a8fa23d65row4_col8\" class=\"data row4 col8\" >0.46</td> \n",
       "        <td id=\"T_0fd2ee18_ce33_11e9_bea0_e89a8fa23d65row4_col9\" class=\"data row4 col9\" >0.34</td> \n",
       "        <td id=\"T_0fd2ee18_ce33_11e9_bea0_e89a8fa23d65row4_col10\" class=\"data row4 col10\" >0.42</td> \n",
       "    </tr>    <tr> \n",
       "        <th id=\"T_0fd2ee18_ce33_11e9_bea0_e89a8fa23d65level0_row5\" class=\"row_heading level0 row5\" >atemp</th> \n",
       "        <td id=\"T_0fd2ee18_ce33_11e9_bea0_e89a8fa23d65row5_col0\" class=\"data row5 col0\" >0.4</td> \n",
       "        <td id=\"T_0fd2ee18_ce33_11e9_bea0_e89a8fa23d65row5_col1\" class=\"data row5 col1\" >-0.033</td> \n",
       "        <td id=\"T_0fd2ee18_ce33_11e9_bea0_e89a8fa23d65row5_col2\" class=\"data row5 col2\" >0.065</td> \n",
       "        <td id=\"T_0fd2ee18_ce33_11e9_bea0_e89a8fa23d65row5_col3\" class=\"data row5 col3\" >-0.095</td> \n",
       "        <td id=\"T_0fd2ee18_ce33_11e9_bea0_e89a8fa23d65row5_col4\" class=\"data row5 col4\" >0.99</td> \n",
       "        <td id=\"T_0fd2ee18_ce33_11e9_bea0_e89a8fa23d65row5_col5\" class=\"data row5 col5\" >1</td> \n",
       "        <td id=\"T_0fd2ee18_ce33_11e9_bea0_e89a8fa23d65row5_col6\" class=\"data row5 col6\" >-0.032</td> \n",
       "        <td id=\"T_0fd2ee18_ce33_11e9_bea0_e89a8fa23d65row5_col7\" class=\"data row5 col7\" >-0.05</td> \n",
       "        <td id=\"T_0fd2ee18_ce33_11e9_bea0_e89a8fa23d65row5_col8\" class=\"data row5 col8\" >0.45</td> \n",
       "        <td id=\"T_0fd2ee18_ce33_11e9_bea0_e89a8fa23d65row5_col9\" class=\"data row5 col9\" >0.34</td> \n",
       "        <td id=\"T_0fd2ee18_ce33_11e9_bea0_e89a8fa23d65row5_col10\" class=\"data row5 col10\" >0.41</td> \n",
       "    </tr>    <tr> \n",
       "        <th id=\"T_0fd2ee18_ce33_11e9_bea0_e89a8fa23d65level0_row6\" class=\"row_heading level0 row6\" >humidity</th> \n",
       "        <td id=\"T_0fd2ee18_ce33_11e9_bea0_e89a8fa23d65row6_col0\" class=\"data row6 col0\" >0.18</td> \n",
       "        <td id=\"T_0fd2ee18_ce33_11e9_bea0_e89a8fa23d65row6_col1\" class=\"data row6 col1\" >-0.03</td> \n",
       "        <td id=\"T_0fd2ee18_ce33_11e9_bea0_e89a8fa23d65row6_col2\" class=\"data row6 col2\" >0.028</td> \n",
       "        <td id=\"T_0fd2ee18_ce33_11e9_bea0_e89a8fa23d65row6_col3\" class=\"data row6 col3\" >0.43</td> \n",
       "        <td id=\"T_0fd2ee18_ce33_11e9_bea0_e89a8fa23d65row6_col4\" class=\"data row6 col4\" >-0.048</td> \n",
       "        <td id=\"T_0fd2ee18_ce33_11e9_bea0_e89a8fa23d65row6_col5\" class=\"data row6 col5\" >-0.032</td> \n",
       "        <td id=\"T_0fd2ee18_ce33_11e9_bea0_e89a8fa23d65row6_col6\" class=\"data row6 col6\" >1</td> \n",
       "        <td id=\"T_0fd2ee18_ce33_11e9_bea0_e89a8fa23d65row6_col7\" class=\"data row6 col7\" >-0.3</td> \n",
       "        <td id=\"T_0fd2ee18_ce33_11e9_bea0_e89a8fa23d65row6_col8\" class=\"data row6 col8\" >-0.32</td> \n",
       "        <td id=\"T_0fd2ee18_ce33_11e9_bea0_e89a8fa23d65row6_col9\" class=\"data row6 col9\" >-0.28</td> \n",
       "        <td id=\"T_0fd2ee18_ce33_11e9_bea0_e89a8fa23d65row6_col10\" class=\"data row6 col10\" >-0.32</td> \n",
       "    </tr>    <tr> \n",
       "        <th id=\"T_0fd2ee18_ce33_11e9_bea0_e89a8fa23d65level0_row7\" class=\"row_heading level0 row7\" >windspeed</th> \n",
       "        <td id=\"T_0fd2ee18_ce33_11e9_bea0_e89a8fa23d65row7_col0\" class=\"data row7 col0\" >-0.14</td> \n",
       "        <td id=\"T_0fd2ee18_ce33_11e9_bea0_e89a8fa23d65row7_col1\" class=\"data row7 col1\" >0.022</td> \n",
       "        <td id=\"T_0fd2ee18_ce33_11e9_bea0_e89a8fa23d65row7_col2\" class=\"data row7 col2\" >0.002</td> \n",
       "        <td id=\"T_0fd2ee18_ce33_11e9_bea0_e89a8fa23d65row7_col3\" class=\"data row7 col3\" >0.011</td> \n",
       "        <td id=\"T_0fd2ee18_ce33_11e9_bea0_e89a8fa23d65row7_col4\" class=\"data row7 col4\" >-0.0087</td> \n",
       "        <td id=\"T_0fd2ee18_ce33_11e9_bea0_e89a8fa23d65row7_col5\" class=\"data row7 col5\" >-0.05</td> \n",
       "        <td id=\"T_0fd2ee18_ce33_11e9_bea0_e89a8fa23d65row7_col6\" class=\"data row7 col6\" >-0.3</td> \n",
       "        <td id=\"T_0fd2ee18_ce33_11e9_bea0_e89a8fa23d65row7_col7\" class=\"data row7 col7\" >1</td> \n",
       "        <td id=\"T_0fd2ee18_ce33_11e9_bea0_e89a8fa23d65row7_col8\" class=\"data row7 col8\" >0.08</td> \n",
       "        <td id=\"T_0fd2ee18_ce33_11e9_bea0_e89a8fa23d65row7_col9\" class=\"data row7 col9\" >0.1</td> \n",
       "        <td id=\"T_0fd2ee18_ce33_11e9_bea0_e89a8fa23d65row7_col10\" class=\"data row7 col10\" >0.11</td> \n",
       "    </tr>    <tr> \n",
       "        <th id=\"T_0fd2ee18_ce33_11e9_bea0_e89a8fa23d65level0_row8\" class=\"row_heading level0 row8\" >casual</th> \n",
       "        <td id=\"T_0fd2ee18_ce33_11e9_bea0_e89a8fa23d65row8_col0\" class=\"data row8 col0\" >0.1</td> \n",
       "        <td id=\"T_0fd2ee18_ce33_11e9_bea0_e89a8fa23d65row8_col1\" class=\"data row8 col1\" >0.029</td> \n",
       "        <td id=\"T_0fd2ee18_ce33_11e9_bea0_e89a8fa23d65row8_col2\" class=\"data row8 col2\" >-0.31</td> \n",
       "        <td id=\"T_0fd2ee18_ce33_11e9_bea0_e89a8fa23d65row8_col3\" class=\"data row8 col3\" >-0.16</td> \n",
       "        <td id=\"T_0fd2ee18_ce33_11e9_bea0_e89a8fa23d65row8_col4\" class=\"data row8 col4\" >0.46</td> \n",
       "        <td id=\"T_0fd2ee18_ce33_11e9_bea0_e89a8fa23d65row8_col5\" class=\"data row8 col5\" >0.45</td> \n",
       "        <td id=\"T_0fd2ee18_ce33_11e9_bea0_e89a8fa23d65row8_col6\" class=\"data row8 col6\" >-0.32</td> \n",
       "        <td id=\"T_0fd2ee18_ce33_11e9_bea0_e89a8fa23d65row8_col7\" class=\"data row8 col7\" >0.08</td> \n",
       "        <td id=\"T_0fd2ee18_ce33_11e9_bea0_e89a8fa23d65row8_col8\" class=\"data row8 col8\" >1</td> \n",
       "        <td id=\"T_0fd2ee18_ce33_11e9_bea0_e89a8fa23d65row8_col9\" class=\"data row8 col9\" >0.51</td> \n",
       "        <td id=\"T_0fd2ee18_ce33_11e9_bea0_e89a8fa23d65row8_col10\" class=\"data row8 col10\" >0.71</td> \n",
       "    </tr>    <tr> \n",
       "        <th id=\"T_0fd2ee18_ce33_11e9_bea0_e89a8fa23d65level0_row9\" class=\"row_heading level0 row9\" >registered</th> \n",
       "        <td id=\"T_0fd2ee18_ce33_11e9_bea0_e89a8fa23d65row9_col0\" class=\"data row9 col0\" >0.086</td> \n",
       "        <td id=\"T_0fd2ee18_ce33_11e9_bea0_e89a8fa23d65row9_col1\" class=\"data row9 col1\" >-0.046</td> \n",
       "        <td id=\"T_0fd2ee18_ce33_11e9_bea0_e89a8fa23d65row9_col2\" class=\"data row9 col2\" >0.13</td> \n",
       "        <td id=\"T_0fd2ee18_ce33_11e9_bea0_e89a8fa23d65row9_col3\" class=\"data row9 col3\" >-0.14</td> \n",
       "        <td id=\"T_0fd2ee18_ce33_11e9_bea0_e89a8fa23d65row9_col4\" class=\"data row9 col4\" >0.34</td> \n",
       "        <td id=\"T_0fd2ee18_ce33_11e9_bea0_e89a8fa23d65row9_col5\" class=\"data row9 col5\" >0.34</td> \n",
       "        <td id=\"T_0fd2ee18_ce33_11e9_bea0_e89a8fa23d65row9_col6\" class=\"data row9 col6\" >-0.28</td> \n",
       "        <td id=\"T_0fd2ee18_ce33_11e9_bea0_e89a8fa23d65row9_col7\" class=\"data row9 col7\" >0.1</td> \n",
       "        <td id=\"T_0fd2ee18_ce33_11e9_bea0_e89a8fa23d65row9_col8\" class=\"data row9 col8\" >0.51</td> \n",
       "        <td id=\"T_0fd2ee18_ce33_11e9_bea0_e89a8fa23d65row9_col9\" class=\"data row9 col9\" >1</td> \n",
       "        <td id=\"T_0fd2ee18_ce33_11e9_bea0_e89a8fa23d65row9_col10\" class=\"data row9 col10\" >0.97</td> \n",
       "    </tr>    <tr> \n",
       "        <th id=\"T_0fd2ee18_ce33_11e9_bea0_e89a8fa23d65level0_row10\" class=\"row_heading level0 row10\" >count</th> \n",
       "        <td id=\"T_0fd2ee18_ce33_11e9_bea0_e89a8fa23d65row10_col0\" class=\"data row10 col0\" >0.1</td> \n",
       "        <td id=\"T_0fd2ee18_ce33_11e9_bea0_e89a8fa23d65row10_col1\" class=\"data row10 col1\" >-0.029</td> \n",
       "        <td id=\"T_0fd2ee18_ce33_11e9_bea0_e89a8fa23d65row10_col2\" class=\"data row10 col2\" >0.019</td> \n",
       "        <td id=\"T_0fd2ee18_ce33_11e9_bea0_e89a8fa23d65row10_col3\" class=\"data row10 col3\" >-0.16</td> \n",
       "        <td id=\"T_0fd2ee18_ce33_11e9_bea0_e89a8fa23d65row10_col4\" class=\"data row10 col4\" >0.42</td> \n",
       "        <td id=\"T_0fd2ee18_ce33_11e9_bea0_e89a8fa23d65row10_col5\" class=\"data row10 col5\" >0.41</td> \n",
       "        <td id=\"T_0fd2ee18_ce33_11e9_bea0_e89a8fa23d65row10_col6\" class=\"data row10 col6\" >-0.32</td> \n",
       "        <td id=\"T_0fd2ee18_ce33_11e9_bea0_e89a8fa23d65row10_col7\" class=\"data row10 col7\" >0.11</td> \n",
       "        <td id=\"T_0fd2ee18_ce33_11e9_bea0_e89a8fa23d65row10_col8\" class=\"data row10 col8\" >0.71</td> \n",
       "        <td id=\"T_0fd2ee18_ce33_11e9_bea0_e89a8fa23d65row10_col9\" class=\"data row10 col9\" >0.97</td> \n",
       "        <td id=\"T_0fd2ee18_ce33_11e9_bea0_e89a8fa23d65row10_col10\" class=\"data row10 col10\" >1</td> \n",
       "    </tr></tbody> \n",
       "</table> "
      ],
      "text/plain": [
       "<pandas.io.formats.style.Styler at 0x2783d9b1668>"
      ]
     },
     "execution_count": 17,
     "metadata": {},
     "output_type": "execute_result"
    }
   ],
   "source": [
    "#checking corelation visually\n",
    "corr = train.corr()\n",
    "corr.style.background_gradient(cmap='gist_earth_r').set_precision(2)\n",
    "\n"
   ]
  },
  {
   "cell_type": "code",
   "execution_count": 18,
   "metadata": {},
   "outputs": [],
   "source": [
    "#('Colormap warm is not recognized. Possible values are: \n",
    "#Accent, Accent_r, Blues, Blues_r, BrBG, BrBG_r, BuGn, BuGn_r, BuPu, BuPu_r, CMRmap, CMRmap_r, Dark2, Dark2_r,\n",
    "#GnBu, GnBu_r, Greens, Greens_r, Greys, Greys_r, OrRd, OrRd_r, Oranges, Oranges_r, PRGn, PRGn_r, Paired, Paired_r, \n",
    "#Pastel1, Pastel1_r, Pastel2, Pastel2_r, PiYG, PiYG_r, PuBu, PuBuGn, PuBuGn_r, PuBu_r, PuOr, PuOr_r, PuRd, PuRd_r, \n",
    "#Purples, Purples_r, RdBu, RdBu_r, RdGy, RdGy_r, RdPu, RdPu_r, RdYlBu, RdYlBu_r, RdYlGn, RdYlGn_r, Reds, Reds_r, \n",
    "#Set1, Set1_r, Set2, Set2_r, Set3, Set3_r, Spectral, Spectral_r, Wistia, Wistia_r, YlGn, YlGnBu, YlGnBu_r, YlGn_r, \n",
    "#YlOrBr, YlOrBr_r, YlOrRd, YlOrRd_r, afmhot, afmhot_r, autumn, autumn_r, binary, binary_r, bone, bone_r, brg, brg_r, \n",
    "#bwr, bwr_r, cividis, cividis_r, cool, cool_r, coolwarm, coolwarm_r, copper, copper_r, cubehelix, cubehelix_r, flag, \n",
    "# flag_r, gist_earth, gist_earth_r, gist_gray, gist_gray_r, gist_heat, gist_heat_r, gist_ncar, gist_ncar_r, gist_rainbow, \n",
    "# gist_rainbow_r, gist_stern, gist_stern_r, gist_yarg, gist_yarg_r, gnuplot, gnuplot2, gnuplot2_r, gnuplot_r, gray, gray_r, \n",
    "# hot, hot_r, hsv, hsv_r, icefire, icefire_r, inferno, inferno_r, jet, jet_r, magma, magma_r, mako, mako_r, nipy_spectral, \n",
    "# nipy_spectral_r, ocean, ocean_r, pink, pink_r, plasma, plasma_r, prism, prism_r, rainbow, rainbow_r, rocket, rocket_r, \n",
    "# seismic, seismic_r, spring, spring_r, summer, summer_r, tab10, tab10_r, tab20, tab20_r, tab20b, tab20b_r, tab20c, tab20c_r, \n",
    "# terrain, terrain_r, twilight, twilight_r, twilight_shifted, twilight_shifted_r, viridis, viridis_r, vlag, vlag_r, winter, \n",
    "# winter_r', 'occurred at index season')"
   ]
  },
  {
   "cell_type": "code",
   "execution_count": 19,
   "metadata": {},
   "outputs": [],
   "source": [
    "# extracting date, hour and month from the datetime\n",
    "train[\"date\"] = train.datetime.apply(lambda x : x.split()[0])\n",
    "train[\"hour\"] = train.datetime.apply(lambda x : x.split()[1].split(\":\")[0])\n",
    "train[\"month\"] = train.date.apply(lambda dateString : datetime.strptime(dateString,\"%Y-%m-%d\").month)"
   ]
  },
  {
   "cell_type": "code",
   "execution_count": 20,
   "metadata": {},
   "outputs": [],
   "source": [
    "test[\"date\"] = test.datetime.apply(lambda x : x.split()[0])\n",
    "test[\"hour\"] = test.datetime.apply(lambda x : x.split()[1].split(\":\")[0])\n",
    "test[\"month\"] = test.date.apply(lambda dateString : datetime.strptime(dateString,\"%Y-%m-%d\").month)"
   ]
  },
  {
   "cell_type": "code",
   "execution_count": 21,
   "metadata": {},
   "outputs": [],
   "source": [
    "training = train[train['datetime']<='2012-03-30 0:00:00']\n",
    "validation = train[train['datetime']>'2012-03-30 0:00:00']"
   ]
  },
  {
   "cell_type": "code",
   "execution_count": 22,
   "metadata": {},
   "outputs": [],
   "source": [
    "#droping atemp as it is highly correlated with temp\n",
    "#droping datetime and date as we have already extracted features from these vars. \n",
    "\n",
    "train = train.drop(['datetime','date', 'atemp'],axis=1)\n",
    "test = test.drop(['datetime','date', 'atemp'], axis=1)\n",
    "training = training.drop(['datetime','date', 'atemp'],axis=1)\n",
    "validation = validation.drop(['datetime','date', 'atemp'],axis=1)"
   ]
  },
  {
   "cell_type": "code",
   "execution_count": 23,
   "metadata": {},
   "outputs": [],
   "source": [
    "#Building the MODEL\n",
    "\n",
    "from sklearn.linear_model import LinearRegression"
   ]
  },
  {
   "cell_type": "code",
   "execution_count": 24,
   "metadata": {},
   "outputs": [],
   "source": [
    "lModel = LinearRegression()"
   ]
  },
  {
   "cell_type": "code",
   "execution_count": 25,
   "metadata": {},
   "outputs": [],
   "source": [
    "#seperating target variable from both traing and validation\n",
    "\n",
    "X_train = training.drop('count', 1)\n",
    "y_train = np.log(training['count'])\n",
    "\n",
    "X_val = validation.drop('count', 1)\n",
    "y_val = np.log(validation['count'])"
   ]
  },
  {
   "cell_type": "code",
   "execution_count": 26,
   "metadata": {},
   "outputs": [
    {
     "data": {
      "text/plain": [
       "((10774, 11), (10774,), (2206, 11), (2206,))"
      ]
     },
     "execution_count": 26,
     "metadata": {},
     "output_type": "execute_result"
    }
   ],
   "source": [
    "# checking the shape of X_train, y_train, X_val and y_val\n",
    "X_train.shape, y_train.shape, X_val.shape, y_val.shape"
   ]
  },
  {
   "cell_type": "code",
   "execution_count": 27,
   "metadata": {},
   "outputs": [
    {
     "data": {
      "text/plain": [
       "LinearRegression(copy_X=True, fit_intercept=True, n_jobs=None,\n",
       "         normalize=False)"
      ]
     },
     "execution_count": 27,
     "metadata": {},
     "output_type": "execute_result"
    }
   ],
   "source": [
    "# fitting the model on X_train and y_train\n",
    "lModel.fit(X_train,y_train)\n"
   ]
  },
  {
   "cell_type": "code",
   "execution_count": 28,
   "metadata": {},
   "outputs": [],
   "source": [
    "# making prediction on validation set\n",
    "prediction = lModel.predict(X_val)"
   ]
  },
  {
   "cell_type": "code",
   "execution_count": 29,
   "metadata": {},
   "outputs": [],
   "source": [
    "# defining a function which will return the rmsle score\n",
    "def rmsle(y, z):\n",
    "    y = np.exp(y),   # taking the exponential as we took the log of target variable\n",
    "    z = np.exp(z)\n",
    "    log1 = np.nan_to_num(np.array([np.log(v + 1) for v in y]))\n",
    "    log2 = np.nan_to_num(np.array([np.log(v + 1) for v in z]))\n",
    "    calc = (log1 - log2) ** 2\n",
    "    return np.sqrt(np.mean(calc))"
   ]
  },
  {
   "cell_type": "code",
   "execution_count": 30,
   "metadata": {},
   "outputs": [
    {
     "data": {
      "text/plain": [
       "0.8875379204281765"
      ]
     },
     "execution_count": 30,
     "metadata": {},
     "output_type": "execute_result"
    }
   ],
   "source": [
    "rmsle(y_val,prediction)"
   ]
  },
  {
   "cell_type": "code",
   "execution_count": 31,
   "metadata": {},
   "outputs": [],
   "source": [
    "#as the value is very close to 0 so our model is working fine.\n",
    "#predicting value of test\n",
    "\n",
    "test_prediction = lModel.predict(test)\n"
   ]
  },
  {
   "cell_type": "code",
   "execution_count": null,
   "metadata": {},
   "outputs": [],
   "source": []
  },
  {
   "cell_type": "code",
   "execution_count": 32,
   "metadata": {},
   "outputs": [],
   "source": [
    "#building the decision tree\n",
    "\n",
    "from sklearn.tree import DecisionTreeRegressor"
   ]
  },
  {
   "cell_type": "code",
   "execution_count": 33,
   "metadata": {},
   "outputs": [],
   "source": [
    "dt_reg = DecisionTreeRegressor()"
   ]
  },
  {
   "cell_type": "code",
   "execution_count": 34,
   "metadata": {},
   "outputs": [
    {
     "data": {
      "text/plain": [
       "DecisionTreeRegressor(criterion='mse', max_depth=None, max_features=None,\n",
       "           max_leaf_nodes=None, min_impurity_decrease=0.0,\n",
       "           min_impurity_split=None, min_samples_leaf=1,\n",
       "           min_samples_split=2, min_weight_fraction_leaf=0.0,\n",
       "           presort=False, random_state=None, splitter='best')"
      ]
     },
     "execution_count": 34,
     "metadata": {},
     "output_type": "execute_result"
    }
   ],
   "source": [
    "dt_reg.fit(X_train, y_train)"
   ]
  },
  {
   "cell_type": "code",
   "execution_count": 35,
   "metadata": {},
   "outputs": [],
   "source": [
    "predict_dt = dt_reg.predict(X_val)"
   ]
  },
  {
   "cell_type": "code",
   "execution_count": 36,
   "metadata": {},
   "outputs": [
    {
     "data": {
      "text/plain": [
       "0.048694646731221335"
      ]
     },
     "execution_count": 36,
     "metadata": {},
     "output_type": "execute_result"
    }
   ],
   "source": [
    "# calculating rmsle of the predicted values\n",
    "rmsle(y_val, predict_dt)"
   ]
  },
  {
   "cell_type": "code",
   "execution_count": 37,
   "metadata": {},
   "outputs": [],
   "source": [
    "#as the value is very very close to zero so our this predition is used on our test\n",
    "\n",
    "test_prediction = dt_reg.predict(test)"
   ]
  },
  {
   "cell_type": "code",
   "execution_count": 38,
   "metadata": {},
   "outputs": [],
   "source": [
    "#since the value is in log so we have to convert it back into normal form by making it exponential\n",
    "\n",
    "final_prediction = np.exp(test_prediction)\n"
   ]
  },
  {
   "cell_type": "code",
   "execution_count": 39,
   "metadata": {},
   "outputs": [],
   "source": [
    "#saving the final prediction now\n",
    "\n",
    "submission = pd.DataFrame()\n",
    "\n",
    "# creating a count column and saving the predictions in it\n",
    "submission['count'] = final_prediction"
   ]
  },
  {
   "cell_type": "code",
   "execution_count": 40,
   "metadata": {},
   "outputs": [],
   "source": [
    "submission.to_csv('submission.csv', header=True, index=False)"
   ]
  },
  {
   "cell_type": "code",
   "execution_count": null,
   "metadata": {},
   "outputs": [],
   "source": []
  },
  {
   "cell_type": "code",
   "execution_count": null,
   "metadata": {},
   "outputs": [],
   "source": []
  },
  {
   "cell_type": "code",
   "execution_count": null,
   "metadata": {},
   "outputs": [],
   "source": []
  },
  {
   "cell_type": "code",
   "execution_count": null,
   "metadata": {},
   "outputs": [],
   "source": []
  },
  {
   "cell_type": "code",
   "execution_count": null,
   "metadata": {},
   "outputs": [],
   "source": []
  },
  {
   "cell_type": "code",
   "execution_count": null,
   "metadata": {},
   "outputs": [],
   "source": []
  },
  {
   "cell_type": "code",
   "execution_count": null,
   "metadata": {},
   "outputs": [],
   "source": []
  },
  {
   "cell_type": "code",
   "execution_count": null,
   "metadata": {},
   "outputs": [],
   "source": []
  },
  {
   "cell_type": "code",
   "execution_count": null,
   "metadata": {},
   "outputs": [],
   "source": []
  },
  {
   "cell_type": "code",
   "execution_count": null,
   "metadata": {},
   "outputs": [],
   "source": []
  },
  {
   "cell_type": "code",
   "execution_count": null,
   "metadata": {},
   "outputs": [],
   "source": []
  }
 ],
 "metadata": {
  "kernelspec": {
   "display_name": "Python 3",
   "language": "python",
   "name": "python3"
  },
  "language_info": {
   "codemirror_mode": {
    "name": "ipython",
    "version": 3
   },
   "file_extension": ".py",
   "mimetype": "text/x-python",
   "name": "python",
   "nbconvert_exporter": "python",
   "pygments_lexer": "ipython3",
   "version": "3.7.1"
  }
 },
 "nbformat": 4,
 "nbformat_minor": 2
}
